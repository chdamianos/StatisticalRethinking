{
 "cells": [
  {
   "cell_type": "code",
   "execution_count": 1,
   "metadata": {},
   "outputs": [],
   "source": [
    "%matplotlib inline\n",
    "import pymc3 as pm\n",
    "import numpy as np\n",
    "import pandas as pd\n",
    "import matplotlib.pyplot as plt\n",
    "from theano import tensor as tt\n",
    "import warnings\n",
    "warnings.simplefilter(action='ignore', category=FutureWarning)\n",
    "\n",
    "%config InlineBackend.figure_format = 'retina'\n",
    "plt.style.use(['seaborn-colorblind', 'seaborn-darkgrid'])"
   ]
  },
  {
   "cell_type": "markdown",
   "metadata": {},
   "source": [
    "#### Code 13.1"
   ]
  },
  {
   "cell_type": "code",
   "execution_count": 2,
   "metadata": {},
   "outputs": [],
   "source": [
    "a = 3.5        # average morning wait time\n",
    "b = -1.        # average difference afternoon wait time\n",
    "sigma_a = 1.   # std dev in intercepts\n",
    "sigma_b = 0.5  # std dev in slopes\n",
    "rho = -0.7     # correlation between intercepts and slopes"
   ]
  },
  {
   "cell_type": "markdown",
   "metadata": {},
   "source": [
    "#### Code 13.2"
   ]
  },
  {
   "cell_type": "code",
   "execution_count": 3,
   "metadata": {},
   "outputs": [
    {
     "data": {
      "text/plain": [
       "[3.5, -1.0]"
      ]
     },
     "execution_count": 3,
     "metadata": {},
     "output_type": "execute_result"
    }
   ],
   "source": [
    "Mu = [a, b]  \n",
    "Mu"
   ]
  },
  {
   "cell_type": "markdown",
   "metadata": {},
   "source": [
    "#### Code 13.3"
   ]
  },
  {
   "cell_type": "code",
   "execution_count": 4,
   "metadata": {},
   "outputs": [
    {
     "data": {
      "text/plain": [
       "array([[ 1.  , -0.35],\n",
       "       [-0.35,  0.25]])"
      ]
     },
     "execution_count": 4,
     "metadata": {},
     "output_type": "execute_result"
    }
   ],
   "source": [
    "cov_ab = sigma_a * sigma_b * rho\n",
    "Sigma = np.array([[sigma_a**2, cov_ab], [cov_ab, sigma_b**2]])\n",
    "Sigma"
   ]
  },
  {
   "cell_type": "markdown",
   "metadata": {},
   "source": [
    "#### Code 13.4"
   ]
  },
  {
   "cell_type": "markdown",
   "metadata": {},
   "source": [
    "The code 13.4 and the related comment in the book is particular to R and not relevant for Python."
   ]
  },
  {
   "cell_type": "markdown",
   "metadata": {},
   "source": [
    "#### Code 13.5"
   ]
  },
  {
   "cell_type": "code",
   "execution_count": 5,
   "metadata": {},
   "outputs": [
    {
     "data": {
      "text/plain": [
       "matrix([[ 1.  , -0.35],\n",
       "        [-0.35,  0.25]])"
      ]
     },
     "execution_count": 5,
     "metadata": {},
     "output_type": "execute_result"
    }
   ],
   "source": [
    "sigmas = [sigma_a, sigma_b]\n",
    "Rho = np.matrix([[1, rho], [rho, 1]])\n",
    "\n",
    "Sigma = np.diag(sigmas) * Rho * np.diag(sigmas)\n",
    "Sigma"
   ]
  },
  {
   "cell_type": "markdown",
   "metadata": {},
   "source": [
    "#### Code 13.6"
   ]
  },
  {
   "cell_type": "code",
   "execution_count": 6,
   "metadata": {},
   "outputs": [],
   "source": [
    "N_cafes = 20"
   ]
  },
  {
   "cell_type": "markdown",
   "metadata": {},
   "source": [
    "#### Code 13.7"
   ]
  },
  {
   "cell_type": "code",
   "execution_count": 7,
   "metadata": {},
   "outputs": [],
   "source": [
    "np.random.seed(42)\n",
    "vary_effects = np.random.multivariate_normal(mean=Mu, cov=Sigma, size=N_cafes)"
   ]
  },
  {
   "cell_type": "code",
   "execution_count": 8,
   "metadata": {},
   "outputs": [
    {
     "data": {
      "text/plain": [
       "(20, 2)"
      ]
     },
     "execution_count": 8,
     "metadata": {},
     "output_type": "execute_result"
    }
   ],
   "source": [
    "vary_effects.shape"
   ]
  },
  {
   "cell_type": "markdown",
   "metadata": {},
   "source": [
    "#### Code 13.8"
   ]
  },
  {
   "cell_type": "code",
   "execution_count": 9,
   "metadata": {},
   "outputs": [],
   "source": [
    "a_cafe = vary_effects[:, 0]\n",
    "b_cafe = vary_effects[:, 1]"
   ]
  },
  {
   "cell_type": "markdown",
   "metadata": {},
   "source": [
    "#### Code 13.9"
   ]
  },
  {
   "cell_type": "code",
   "execution_count": 10,
   "metadata": {},
   "outputs": [],
   "source": [
    "from matplotlib.patches import Ellipse\n",
    "from scipy.stats import chi2\n",
    "def Gauss2d(mu, cov, ci, ax=None, ls='-'):\n",
    "    \"\"\"Copied from statsmodel\"\"\"\n",
    "    if ax is None:\n",
    "        _, ax = plt.subplots(figsize=(6, 6))\n",
    "\n",
    "    v_, w = np.linalg.eigh(cov)\n",
    "    u = w[0] / np.linalg.norm(w[0])\n",
    "    angle = np.arctan(u[1]/u[0])\n",
    "    angle = 180 * angle / np.pi # convert to degrees\n",
    "\n",
    "    for level in ci:\n",
    "        v = 2 * np.sqrt(v_ * chi2.ppf(level, 2)) #get size corresponding to level\n",
    "        ell = Ellipse(mu[:2], v[0], v[1], 180 + angle, facecolor='None',\n",
    "                      edgecolor='k',ls=ls,\n",
    "                      alpha=(1-level)*.5,\n",
    "                      lw=1.5)\n",
    "        ell.set_clip_box(ax.bbox)\n",
    "        ell.set_alpha(0.5)\n",
    "        ax.add_artist(ell)\n",
    "    \n",
    "    return ax"
   ]
  },
  {
   "cell_type": "code",
   "execution_count": 11,
   "metadata": {
    "scrolled": true
   },
   "outputs": [
    {
     "data": {
      "image/png": "[encoded data removed]",
      "text/plain": [
       "<Figure size 360x360 with 1 Axes>"
      ]
     },
     "metadata": {
      "image/png": {
       "height": 316,
       "width": 335
      },
      "needs_background": "light"
     },
     "output_type": "display_data"
    }
   ],
   "source": [
    "_, ax = plt.subplots(1, 1, figsize=(5, 5))\n",
    "Gauss2d(Mu, np.asarray(Sigma), [0.1, 0.3, 0.5, 0.8, 0.99], ax=ax)\n",
    "ax.scatter(a_cafe, b_cafe)\n",
    "ax.set_xlim(1.5, 6.1)\n",
    "ax.set_ylim(-2, 0)\n",
    "ax.set_xlabel('intercepts (a_cafe)')\n",
    "ax.set_ylabel('slopes (b_cafe)');"
   ]
  },
  {
   "cell_type": "markdown",
   "metadata": {},
   "source": [
    "#### Code 13.10"
   ]
  },
  {
   "cell_type": "code",
   "execution_count": 12,
   "metadata": {},
   "outputs": [],
   "source": [
    "N_visits = 10\n",
    "afternoon = np.tile([0,1], N_visits * N_cafes//2)  # wrap with int() to suppress warnings\n",
    "cafe_id = np.repeat(np.arange(0, N_cafes), N_visits)  # 1-20 (minus 1 for python indexing)\n",
    "# a_cafe[cafe_id] and b_cafe[cafe_id] repeats simulated model parameters\n",
    "mu = a_cafe[cafe_id] + b_cafe[cafe_id]*afternoon\n",
    "sigma = 0.5 # std dev within cafes\n",
    "wait = np.random.normal(loc=mu, scale=sigma, size=N_visits*N_cafes)\n",
    "d = pd.DataFrame(dict(cafe=cafe_id , afternoon=afternoon , wait=wait))"
   ]
  },
  {
   "cell_type": "code",
   "execution_count": 13,
   "metadata": {},
   "outputs": [
    {
     "data": {
      "text/html": [
       "<div>\n",
       "<style scoped>\n",
       "    .dataframe tbody tr th:only-of-type {\n",
       "        vertical-align: middle;\n",
       "    }\n",
       "\n",
       "    .dataframe tbody tr th {\n",
       "        vertical-align: top;\n",
       "    }\n",
       "\n",
       "    .dataframe thead th {\n",
       "        text-align: right;\n",
       "    }\n",
       "</style>\n",
       "<table border=\"1\" class=\"dataframe\">\n",
       "  <thead>\n",
       "    <tr style=\"text-align: right;\">\n",
       "      <th></th>\n",
       "      <th>cafe</th>\n",
       "      <th>afternoon</th>\n",
       "      <th>wait</th>\n",
       "    </tr>\n",
       "  </thead>\n",
       "  <tbody>\n",
       "    <tr>\n",
       "      <th>0</th>\n",
       "      <td>0</td>\n",
       "      <td>0</td>\n",
       "      <td>3.359304</td>\n",
       "    </tr>\n",
       "    <tr>\n",
       "      <th>1</th>\n",
       "      <td>0</td>\n",
       "      <td>1</td>\n",
       "      <td>2.227004</td>\n",
       "    </tr>\n",
       "    <tr>\n",
       "      <th>2</th>\n",
       "      <td>0</td>\n",
       "      <td>0</td>\n",
       "      <td>2.932246</td>\n",
       "    </tr>\n",
       "    <tr>\n",
       "      <th>3</th>\n",
       "      <td>0</td>\n",
       "      <td>1</td>\n",
       "      <td>1.990768</td>\n",
       "    </tr>\n",
       "    <tr>\n",
       "      <th>4</th>\n",
       "      <td>0</td>\n",
       "      <td>0</td>\n",
       "      <td>2.250810</td>\n",
       "    </tr>\n",
       "  </tbody>\n",
       "</table>\n",
       "</div>"
      ],
      "text/plain": [
       "   cafe  afternoon      wait\n",
       "0     0          0  3.359304\n",
       "1     0          1  2.227004\n",
       "2     0          0  2.932246\n",
       "3     0          1  1.990768\n",
       "4     0          0  2.250810"
      ]
     },
     "execution_count": 13,
     "metadata": {},
     "output_type": "execute_result"
    }
   ],
   "source": [
    "d.head()"
   ]
  },
  {
   "cell_type": "markdown",
   "metadata": {},
   "source": [
    "#### Code 13.11"
   ]
  },
  {
   "cell_type": "code",
   "execution_count": 14,
   "metadata": {},
   "outputs": [
    {
     "data": {
      "image/png": "[encoded data removed]",
      "text/plain": [
       "<Figure size 360x360 with 1 Axes>"
      ]
     },
     "metadata": {
      "image/png": {
       "height": 312,
       "width": 324
      },
      "needs_background": "light"
     },
     "output_type": "display_data"
    }
   ],
   "source": [
    "_, ax = plt.subplots(1, 1, figsize=(5, 5))\n",
    "pm.kdeplot(pm.LKJCorr.dist(n=2, eta=1).random(size=10000), ax=ax, label='eta=1');\n",
    "pm.kdeplot(pm.LKJCorr.dist(n=2, eta=2).random(size=10000), ax=ax, label='eta=2');\n",
    "pm.kdeplot(pm.LKJCorr.dist(n=2, eta=4).random(size=10000), ax=ax, label='eta=4');\n",
    "ax.set_xlabel('correlation')\n",
    "ax.set_ylabel('Density');\n",
    "ax.legend();"
   ]
  },
  {
   "cell_type": "markdown",
   "metadata": {},
   "source": [
    "#### Code 13.12"
   ]
  },
  {
   "cell_type": "code",
   "execution_count": 15,
   "metadata": {},
   "outputs": [],
   "source": [
    "# # example of calculations in model but using numpy\n",
    "# temp_cov = np.cov(np.random.normal(size=(3,15)),np.random.normal(size=(3,15)))\n",
    "# print(temp_cov)\n",
    "# print('-------------------------------------')\n",
    "# sigma_ab_temp = np.sqrt(np.diag(temp_cov))\n",
    "# print(sigma_ab_temp)\n",
    "# print('-------------------------------------')\n",
    "# # tt.diag(sigma_ab**-1).dot(cov.dot(tt.diag(sigma_ab**-1)))\n",
    "# corr_temp = np.diag(sigma_ab_temp**-1).dot(temp_cov.dot(np.diag(sigma_ab_temp**-1)))\n",
    "# print(corr_temp)\n",
    "# print('-------------------------------------')\n",
    "# print(corr_temp[np.triu_indices(2, k=1)])\n",
    "# print(np.triu_indices(2, k=1))"
   ]
  },
  {
   "cell_type": "code",
   "execution_count": 16,
   "metadata": {},
   "outputs": [],
   "source": [
    "cafe_idx = d['cafe'].values"
   ]
  },
  {
   "cell_type": "code",
   "execution_count": null,
   "metadata": {},
   "outputs": [],
   "source": []
  },
  {
   "cell_type": "code",
   "execution_count": 19,
   "metadata": {},
   "outputs": [
    {
     "data": {
      "text/plain": [
       "array([[ 1,  2,  3],\n",
       "       [ 4,  5,  6],\n",
       "       [ 7,  8,  9],\n",
       "       [10, 11, 12]])"
      ]
     },
     "execution_count": 19,
     "metadata": {},
     "output_type": "execute_result"
    }
   ],
   "source": [
    "array_test = np.array([[1,2,3],[4,5,6],[7,8,9],[10,11,12]])\n",
    "array_test"
   ]
  },
  {
   "cell_type": "code",
   "execution_count": 20,
   "metadata": {},
   "outputs": [
    {
     "data": {
      "text/plain": [
       "array([[ 1,  2,  3],\n",
       "       [ 4,  5,  6],\n",
       "       [ 0,  8,  9],\n",
       "       [ 0,  0, 12]])"
      ]
     },
     "execution_count": 20,
     "metadata": {},
     "output_type": "execute_result"
    }
   ],
   "source": [
    "np.triu(array_test, -1)"
   ]
  },
  {
   "cell_type": "code",
   "execution_count": 23,
   "metadata": {},
   "outputs": [
    {
     "data": {
      "text/plain": [
       "array([[nan, 0.5],\n",
       "       [nan, nan]])"
      ]
     },
     "execution_count": 23,
     "metadata": {},
     "output_type": "execute_result"
    }
   ],
   "source": [
    "corr_triu_test = np.array([[np.nan,0.5],[np.nan,np.nan]])\n",
    "corr_triu_test"
   ]
  },
  {
   "cell_type": "code",
   "execution_count": 24,
   "metadata": {},
   "outputs": [
    {
     "data": {
      "text/plain": [
       "array([[[nan, 0.5],\n",
       "        [nan, 0.5]],\n",
       "\n",
       "       [[nan, 0.5],\n",
       "        [nan, 0.5]]])"
      ]
     },
     "execution_count": 24,
     "metadata": {},
     "output_type": "execute_result"
    }
   ],
   "source": [
    "corr_triu_test[np.zeros((2, 2), dtype=np.int64)]"
   ]
  },
  {
   "cell_type": "code",
   "execution_count": 35,
   "metadata": {},
   "outputs": [],
   "source": [
    "a = pm.LKJCorr.dist(n=3, eta=1).random(size=1)"
   ]
  },
  {
   "cell_type": "code",
   "execution_count": 50,
   "metadata": {},
   "outputs": [
    {
     "data": {
      "text/plain": [
       "array([[ 0.03015337, -0.68898813, -0.22360487]])"
      ]
     },
     "execution_count": 50,
     "metadata": {},
     "output_type": "execute_result"
    }
   ],
   "source": [
    "a"
   ]
  },
  {
   "cell_type": "code",
   "execution_count": 43,
   "metadata": {},
   "outputs": [],
   "source": [
    "n_dim=3"
   ]
  },
  {
   "cell_type": "code",
   "execution_count": 60,
   "metadata": {},
   "outputs": [
    {
     "data": {
      "text/plain": [
       "array([[0., 0., 0.],\n",
       "       [0., 0., 0.],\n",
       "       [0., 0., 0.]])"
      ]
     },
     "execution_count": 60,
     "metadata": {},
     "output_type": "execute_result"
    }
   ],
   "source": [
    "out = np.zeros([n_dim, n_dim])\n",
    "out"
   ]
  },
  {
   "cell_type": "code",
   "execution_count": 59,
   "metadata": {},
   "outputs": [
    {
     "data": {
      "text/plain": [
       "array([ 0.06030674, -1.37797626, -0.44720973])"
      ]
     },
     "execution_count": 59,
     "metadata": {},
     "output_type": "execute_result"
    }
   ],
   "source": [
    "out[np.triu_indices(3, k=1)]=a + out[np.triu_indices(3, k=1)].T"
   ]
  },
  {
   "cell_type": "code",
   "execution_count": 55,
   "metadata": {},
   "outputs": [
    {
     "data": {
      "text/plain": [
       "array([[ 0.        ,  0.03015337, -0.68898813],\n",
       "       [ 0.        ,  0.        , -0.22360487],\n",
       "       [ 0.        ,  0.        ,  0.        ]])"
      ]
     },
     "execution_count": 55,
     "metadata": {},
     "output_type": "execute_result"
    }
   ],
   "source": [
    "out[np.triu_indices(3, k=1)] = a\n",
    "out"
   ]
  },
  {
   "cell_type": "code",
   "execution_count": 56,
   "metadata": {},
   "outputs": [
    {
     "data": {
      "text/plain": [
       "array([[ 0.        ,  0.03015337, -0.68898813],\n",
       "       [ 0.03015337,  0.        , -0.22360487],\n",
       "       [-0.68898813, -0.22360487,  0.        ]])"
      ]
     },
     "execution_count": 56,
     "metadata": {},
     "output_type": "execute_result"
    }
   ],
   "source": [
    "out = out + out.T\n",
    "out"
   ]
  },
  {
   "cell_type": "code",
   "execution_count": 57,
   "metadata": {},
   "outputs": [],
   "source": [
    "np.fill_diagonal(out,1)"
   ]
  },
  {
   "cell_type": "code",
   "execution_count": 58,
   "metadata": {},
   "outputs": [
    {
     "data": {
      "text/plain": [
       "array([[ 1.        ,  0.03015337, -0.68898813],\n",
       "       [ 0.03015337,  1.        , -0.22360487],\n",
       "       [-0.68898813, -0.22360487,  1.        ]])"
      ]
     },
     "execution_count": 58,
     "metadata": {},
     "output_type": "execute_result"
    }
   ],
   "source": [
    "out"
   ]
  },
  {
   "cell_type": "code",
   "execution_count": 68,
   "metadata": {},
   "outputs": [],
   "source": [
    "dim=2"
   ]
  },
  {
   "cell_type": "code",
   "execution_count": 69,
   "metadata": {},
   "outputs": [],
   "source": [
    "# We will use separate priors for sigma and correlation matrix.\n",
    "# In order to convert the upper triangular correlation values to a\n",
    "# complete correlation matrix, we need to construct an index matrix:\n",
    "n_elem = dim * (dim - 1) / 2\n",
    "tri_index = np.zeros([dim, dim], dtype=int)\n",
    "tri_index[np.triu_indices(dim, k=1)] = np.arange(n_elem)\n",
    "tri_index[np.triu_indices(dim, k=1)[::-1]] = np.arange(n_elem)\n"
   ]
  },
  {
   "cell_type": "code",
   "execution_count": 74,
   "metadata": {},
   "outputs": [
    {
     "ename": "ValueError",
     "evalue": "shapes (1,1) and (2,2) not aligned: 1 (dim 1) != 2 (dim 0)",
     "output_type": "error",
     "traceback": [
      "\u001b[0;31m---------------------------------------------------------------------------\u001b[0m",
      "\u001b[0;31mValueError\u001b[0m                                Traceback (most recent call last)",
      "\u001b[0;32m<ipython-input-74-32544fae1b86>\u001b[0m in \u001b[0;36m<module>\u001b[0;34m\u001b[0m\n\u001b[1;32m      4\u001b[0m     \u001b[0mcorr\u001b[0m \u001b[0;34m=\u001b[0m \u001b[0mpm\u001b[0m\u001b[0;34m.\u001b[0m\u001b[0mDeterministic\u001b[0m\u001b[0;34m(\u001b[0m\u001b[0;34m'corr'\u001b[0m\u001b[0;34m,\u001b[0m \u001b[0mtt\u001b[0m\u001b[0;34m.\u001b[0m\u001b[0mfill_diagonal\u001b[0m\u001b[0;34m(\u001b[0m\u001b[0mcorr_triu\u001b[0m\u001b[0;34m[\u001b[0m\u001b[0mtri_index\u001b[0m\u001b[0;34m]\u001b[0m\u001b[0;34m,\u001b[0m \u001b[0;36m1.\u001b[0m\u001b[0;34m)\u001b[0m\u001b[0;34m)\u001b[0m\u001b[0;34m\u001b[0m\u001b[0;34m\u001b[0m\u001b[0m\n\u001b[1;32m      5\u001b[0m     \u001b[0msigma_diag\u001b[0m \u001b[0;34m=\u001b[0m \u001b[0mpm\u001b[0m\u001b[0;34m.\u001b[0m\u001b[0mDeterministic\u001b[0m\u001b[0;34m(\u001b[0m\u001b[0;34m'sigma_mat'\u001b[0m\u001b[0;34m,\u001b[0m \u001b[0mtt\u001b[0m\u001b[0;34m.\u001b[0m\u001b[0mnlinalg\u001b[0m\u001b[0;34m.\u001b[0m\u001b[0mdiag\u001b[0m\u001b[0;34m(\u001b[0m\u001b[0msigma\u001b[0m\u001b[0;34m)\u001b[0m\u001b[0;34m)\u001b[0m\u001b[0;34m\u001b[0m\u001b[0;34m\u001b[0m\u001b[0m\n\u001b[0;32m----> 6\u001b[0;31m     \u001b[0mcov\u001b[0m \u001b[0;34m=\u001b[0m \u001b[0mpm\u001b[0m\u001b[0;34m.\u001b[0m\u001b[0mDeterministic\u001b[0m\u001b[0;34m(\u001b[0m\u001b[0;34m'cov'\u001b[0m\u001b[0;34m,\u001b[0m \u001b[0mtt\u001b[0m\u001b[0;34m.\u001b[0m\u001b[0mnlinalg\u001b[0m\u001b[0;34m.\u001b[0m\u001b[0mmatrix_dot\u001b[0m\u001b[0;34m(\u001b[0m\u001b[0msigma_diag\u001b[0m\u001b[0;34m,\u001b[0m \u001b[0mcorr\u001b[0m\u001b[0;34m,\u001b[0m \u001b[0msigma_diag\u001b[0m\u001b[0;34m)\u001b[0m\u001b[0;34m)\u001b[0m\u001b[0;34m\u001b[0m\u001b[0;34m\u001b[0m\u001b[0m\n\u001b[0m",
      "\u001b[0;32m~/.conda/envs/statRethinkPymc3/lib/python3.7/site-packages/theano/tensor/nlinalg.py\u001b[0m in \u001b[0;36mmatrix_dot\u001b[0;34m(*args)\u001b[0m\n\u001b[1;32m    159\u001b[0m     \u001b[0mrval\u001b[0m \u001b[0;34m=\u001b[0m \u001b[0margs\u001b[0m\u001b[0;34m[\u001b[0m\u001b[0;36m0\u001b[0m\u001b[0;34m]\u001b[0m\u001b[0;34m\u001b[0m\u001b[0;34m\u001b[0m\u001b[0m\n\u001b[1;32m    160\u001b[0m     \u001b[0;32mfor\u001b[0m \u001b[0ma\u001b[0m \u001b[0;32min\u001b[0m \u001b[0margs\u001b[0m\u001b[0;34m[\u001b[0m\u001b[0;36m1\u001b[0m\u001b[0;34m:\u001b[0m\u001b[0;34m]\u001b[0m\u001b[0;34m:\u001b[0m\u001b[0;34m\u001b[0m\u001b[0;34m\u001b[0m\u001b[0m\n\u001b[0;32m--> 161\u001b[0;31m         \u001b[0mrval\u001b[0m \u001b[0;34m=\u001b[0m \u001b[0mtheano\u001b[0m\u001b[0;34m.\u001b[0m\u001b[0mtensor\u001b[0m\u001b[0;34m.\u001b[0m\u001b[0mdot\u001b[0m\u001b[0;34m(\u001b[0m\u001b[0mrval\u001b[0m\u001b[0;34m,\u001b[0m \u001b[0ma\u001b[0m\u001b[0;34m)\u001b[0m\u001b[0;34m\u001b[0m\u001b[0;34m\u001b[0m\u001b[0m\n\u001b[0m\u001b[1;32m    162\u001b[0m     \u001b[0;32mreturn\u001b[0m \u001b[0mrval\u001b[0m\u001b[0;34m\u001b[0m\u001b[0;34m\u001b[0m\u001b[0m\n\u001b[1;32m    163\u001b[0m \u001b[0;34m\u001b[0m\u001b[0m\n",
      "\u001b[0;32m~/.conda/envs/statRethinkPymc3/lib/python3.7/site-packages/theano/tensor/basic.py\u001b[0m in \u001b[0;36mdot\u001b[0;34m(a, b)\u001b[0m\n\u001b[1;32m   6103\u001b[0m         \u001b[0;32mreturn\u001b[0m \u001b[0mtensordot\u001b[0m\u001b[0;34m(\u001b[0m\u001b[0ma\u001b[0m\u001b[0;34m,\u001b[0m \u001b[0mb\u001b[0m\u001b[0;34m,\u001b[0m \u001b[0;34m[\u001b[0m\u001b[0;34m[\u001b[0m\u001b[0ma\u001b[0m\u001b[0;34m.\u001b[0m\u001b[0mndim\u001b[0m \u001b[0;34m-\u001b[0m \u001b[0;36m1\u001b[0m\u001b[0;34m]\u001b[0m\u001b[0;34m,\u001b[0m \u001b[0;34m[\u001b[0m\u001b[0mnp\u001b[0m\u001b[0;34m.\u001b[0m\u001b[0mmaximum\u001b[0m\u001b[0;34m(\u001b[0m\u001b[0;36m0\u001b[0m\u001b[0;34m,\u001b[0m \u001b[0mb\u001b[0m\u001b[0;34m.\u001b[0m\u001b[0mndim\u001b[0m \u001b[0;34m-\u001b[0m \u001b[0;36m2\u001b[0m\u001b[0;34m)\u001b[0m\u001b[0;34m]\u001b[0m\u001b[0;34m]\u001b[0m\u001b[0;34m)\u001b[0m\u001b[0;34m\u001b[0m\u001b[0;34m\u001b[0m\u001b[0m\n\u001b[1;32m   6104\u001b[0m     \u001b[0;32melse\u001b[0m\u001b[0;34m:\u001b[0m\u001b[0;34m\u001b[0m\u001b[0;34m\u001b[0m\u001b[0m\n\u001b[0;32m-> 6105\u001b[0;31m         \u001b[0;32mreturn\u001b[0m \u001b[0m_dot\u001b[0m\u001b[0;34m(\u001b[0m\u001b[0ma\u001b[0m\u001b[0;34m,\u001b[0m \u001b[0mb\u001b[0m\u001b[0;34m)\u001b[0m\u001b[0;34m\u001b[0m\u001b[0;34m\u001b[0m\u001b[0m\n\u001b[0m\u001b[1;32m   6106\u001b[0m \u001b[0;34m\u001b[0m\u001b[0m\n\u001b[1;32m   6107\u001b[0m \u001b[0;34m\u001b[0m\u001b[0m\n",
      "\u001b[0;32m~/.conda/envs/statRethinkPymc3/lib/python3.7/site-packages/theano/gof/op.py\u001b[0m in \u001b[0;36m__call__\u001b[0;34m(self, *inputs, **kwargs)\u001b[0m\n\u001b[1;32m    672\u001b[0m                 \u001b[0mthunk\u001b[0m\u001b[0;34m.\u001b[0m\u001b[0moutputs\u001b[0m \u001b[0;34m=\u001b[0m \u001b[0;34m[\u001b[0m\u001b[0mstorage_map\u001b[0m\u001b[0;34m[\u001b[0m\u001b[0mv\u001b[0m\u001b[0;34m]\u001b[0m \u001b[0;32mfor\u001b[0m \u001b[0mv\u001b[0m \u001b[0;32min\u001b[0m \u001b[0mnode\u001b[0m\u001b[0;34m.\u001b[0m\u001b[0moutputs\u001b[0m\u001b[0;34m]\u001b[0m\u001b[0;34m\u001b[0m\u001b[0;34m\u001b[0m\u001b[0m\n\u001b[1;32m    673\u001b[0m \u001b[0;34m\u001b[0m\u001b[0m\n\u001b[0;32m--> 674\u001b[0;31m                 \u001b[0mrequired\u001b[0m \u001b[0;34m=\u001b[0m \u001b[0mthunk\u001b[0m\u001b[0;34m(\u001b[0m\u001b[0;34m)\u001b[0m\u001b[0;34m\u001b[0m\u001b[0;34m\u001b[0m\u001b[0m\n\u001b[0m\u001b[1;32m    675\u001b[0m                 \u001b[0;32massert\u001b[0m \u001b[0;32mnot\u001b[0m \u001b[0mrequired\u001b[0m  \u001b[0;31m# We provided all inputs\u001b[0m\u001b[0;34m\u001b[0m\u001b[0;34m\u001b[0m\u001b[0m\n\u001b[1;32m    676\u001b[0m \u001b[0;34m\u001b[0m\u001b[0m\n",
      "\u001b[0;32m~/.conda/envs/statRethinkPymc3/lib/python3.7/site-packages/theano/gof/op.py\u001b[0m in \u001b[0;36mrval\u001b[0;34m(p, i, o, n)\u001b[0m\n\u001b[1;32m    890\u001b[0m             \u001b[0;31m# default arguments are stored in the closure of `rval`\u001b[0m\u001b[0;34m\u001b[0m\u001b[0;34m\u001b[0m\u001b[0;34m\u001b[0m\u001b[0m\n\u001b[1;32m    891\u001b[0m             \u001b[0;32mdef\u001b[0m \u001b[0mrval\u001b[0m\u001b[0;34m(\u001b[0m\u001b[0mp\u001b[0m\u001b[0;34m=\u001b[0m\u001b[0mp\u001b[0m\u001b[0;34m,\u001b[0m \u001b[0mi\u001b[0m\u001b[0;34m=\u001b[0m\u001b[0mnode_input_storage\u001b[0m\u001b[0;34m,\u001b[0m \u001b[0mo\u001b[0m\u001b[0;34m=\u001b[0m\u001b[0mnode_output_storage\u001b[0m\u001b[0;34m,\u001b[0m \u001b[0mn\u001b[0m\u001b[0;34m=\u001b[0m\u001b[0mnode\u001b[0m\u001b[0;34m)\u001b[0m\u001b[0;34m:\u001b[0m\u001b[0;34m\u001b[0m\u001b[0;34m\u001b[0m\u001b[0m\n\u001b[0;32m--> 892\u001b[0;31m                 \u001b[0mr\u001b[0m \u001b[0;34m=\u001b[0m \u001b[0mp\u001b[0m\u001b[0;34m(\u001b[0m\u001b[0mn\u001b[0m\u001b[0;34m,\u001b[0m \u001b[0;34m[\u001b[0m\u001b[0mx\u001b[0m\u001b[0;34m[\u001b[0m\u001b[0;36m0\u001b[0m\u001b[0;34m]\u001b[0m \u001b[0;32mfor\u001b[0m \u001b[0mx\u001b[0m \u001b[0;32min\u001b[0m \u001b[0mi\u001b[0m\u001b[0;34m]\u001b[0m\u001b[0;34m,\u001b[0m \u001b[0mo\u001b[0m\u001b[0;34m)\u001b[0m\u001b[0;34m\u001b[0m\u001b[0;34m\u001b[0m\u001b[0m\n\u001b[0m\u001b[1;32m    893\u001b[0m                 \u001b[0;32mfor\u001b[0m \u001b[0mo\u001b[0m \u001b[0;32min\u001b[0m \u001b[0mnode\u001b[0m\u001b[0;34m.\u001b[0m\u001b[0moutputs\u001b[0m\u001b[0;34m:\u001b[0m\u001b[0;34m\u001b[0m\u001b[0;34m\u001b[0m\u001b[0m\n\u001b[1;32m    894\u001b[0m                     \u001b[0mcompute_map\u001b[0m\u001b[0;34m[\u001b[0m\u001b[0mo\u001b[0m\u001b[0;34m]\u001b[0m\u001b[0;34m[\u001b[0m\u001b[0;36m0\u001b[0m\u001b[0;34m]\u001b[0m \u001b[0;34m=\u001b[0m \u001b[0;32mTrue\u001b[0m\u001b[0;34m\u001b[0m\u001b[0;34m\u001b[0m\u001b[0m\n",
      "\u001b[0;32m~/.conda/envs/statRethinkPymc3/lib/python3.7/site-packages/theano/tensor/basic.py\u001b[0m in \u001b[0;36mperform\u001b[0;34m(self, node, inp, out)\u001b[0m\n\u001b[1;32m   5968\u001b[0m         \u001b[0;31m# gives a numpy float object but we need to return a 0d\u001b[0m\u001b[0;34m\u001b[0m\u001b[0;34m\u001b[0m\u001b[0;34m\u001b[0m\u001b[0m\n\u001b[1;32m   5969\u001b[0m         \u001b[0;31m# ndarray\u001b[0m\u001b[0;34m\u001b[0m\u001b[0;34m\u001b[0m\u001b[0;34m\u001b[0m\u001b[0m\n\u001b[0;32m-> 5970\u001b[0;31m         \u001b[0mz\u001b[0m\u001b[0;34m[\u001b[0m\u001b[0;36m0\u001b[0m\u001b[0;34m]\u001b[0m \u001b[0;34m=\u001b[0m \u001b[0mnp\u001b[0m\u001b[0;34m.\u001b[0m\u001b[0masarray\u001b[0m\u001b[0;34m(\u001b[0m\u001b[0mnp\u001b[0m\u001b[0;34m.\u001b[0m\u001b[0mdot\u001b[0m\u001b[0;34m(\u001b[0m\u001b[0mx\u001b[0m\u001b[0;34m,\u001b[0m \u001b[0my\u001b[0m\u001b[0;34m)\u001b[0m\u001b[0;34m)\u001b[0m\u001b[0;34m\u001b[0m\u001b[0;34m\u001b[0m\u001b[0m\n\u001b[0m\u001b[1;32m   5971\u001b[0m \u001b[0;34m\u001b[0m\u001b[0m\n\u001b[1;32m   5972\u001b[0m     \u001b[0;32mdef\u001b[0m \u001b[0mgrad\u001b[0m\u001b[0;34m(\u001b[0m\u001b[0mself\u001b[0m\u001b[0;34m,\u001b[0m \u001b[0minp\u001b[0m\u001b[0;34m,\u001b[0m \u001b[0mgrads\u001b[0m\u001b[0;34m)\u001b[0m\u001b[0;34m:\u001b[0m\u001b[0;34m\u001b[0m\u001b[0;34m\u001b[0m\u001b[0m\n",
      "\u001b[0;31mValueError\u001b[0m: shapes (1,1) and (2,2) not aligned: 1 (dim 1) != 2 (dim 0)"
     ]
    }
   ],
   "source": [
    "with pm.Model() as m_13_1_alt:\n",
    "    sigma = pm.HalfCauchy('sigma',beta=2,shape=1)\n",
    "    corr_triu = pm.LKJCorr('corr_triu', n=corr_dim, eta=2)\n",
    "    corr = pm.Deterministic('corr', tt.fill_diagonal(corr_triu[tri_index], 1.))\n",
    "    sigma_diag = pm.Deterministic('sigma_mat', tt.nlinalg.diag(sigma))\n",
    "    cov = pm.Deterministic('cov', tt.nlinalg.matrix_dot(sigma_diag, corr, sigma_diag))"
   ]
  },
  {
   "cell_type": "code",
   "execution_count": 71,
   "metadata": {},
   "outputs": [
    {
     "data": {
      "text/latex": [
       "$\\text{corr} \\sim \\text{Deterministic}(\\text{Constant},~\\text{Constant},~\\text{corr_triu_interval__},~\\text{Constant},~\\text{Constant},~\\text{Constant},~\\text{Constant},~\\text{Constant},~\\text{Constant},~\\text{Constant},~\\text{corr_triu_interval__},~\\text{Constant},~\\text{Constant})$"
      ],
      "text/plain": [
       "corr"
      ]
     },
     "execution_count": 71,
     "metadata": {},
     "output_type": "execute_result"
    }
   ],
   "source": [
    "corr"
   ]
  },
  {
   "cell_type": "code",
   "execution_count": null,
   "metadata": {},
   "outputs": [],
   "source": [
    "a\n",
    "    \n",
    "    sd_dist = pm.HalfCauchy.dist(beta=2) # This is the same as sigma_cafe ~ dcauchy(0,2)\n",
    "    # it is more computationaly efficient to use a prior on the cholesky decomposition component\n",
    "    # L. L is a lower tringular matrix and in this packed form it's a vector\n",
    "    packed_chol = pm.LKJCholeskyCov('chol_cov', eta=2, n=2, sd_dist=sd_dist)\n",
    "    \n",
    "    # compute the covariance matrix\n",
    "    # to calculate the covariance matric we re-pack the `packed_chol` vector to the \n",
    "    # matrix form of L of the cholesky decomposition \n",
    "    chol = pm.expand_packed_triangular(2, packed_chol, lower=True)\n",
    "    # Cholesky composition of covariance\n",
    "    cov = tt.dot(chol, chol.T)\n",
    "    \n",
    "    # Extract the standard deviations and rho\n",
    "    sigma_ab = pm.Deterministic('sigma_cafe', tt.sqrt(tt.diag(cov)))\n",
    "    # convert covariance matrix to corellation matrix and get the corellation using `np.triu' \n",
    "    # see https://math.stackexchange.com/questions/186959/correlation-matrix-from-covariance-matrix\n",
    "    corr = tt.diag(sigma_ab**-1).dot(cov.dot(tt.diag(sigma_ab**-1)))\n",
    "    r = pm.Deterministic('Rho', corr[np.triu_indices(2, k=1)])\n",
    "    \n",
    "    ab = pm.Normal('ab', mu=0, sd=10, shape=2)  # prior for average intercept and slope\n",
    "    ab_cafe = pm.MvNormal('ab_cafe', mu=ab, chol=chol, shape=(N_cafes, 2)) # Population of varying effects\n",
    "    # Shape needs to be (N_cafes, 2) because we're getting back both a and b for each cafe\n",
    "    \n",
    "    mu = ab_cafe[:, 0][cafe_idx] + ab_cafe[:, 1][cafe_idx] * d['afternoon'].values  # linear model\n",
    "    sd = pm.HalfCauchy('sigma', beta=2)      # prior stddev within cafes\n",
    "    wait = pm.Normal('wait', mu=mu, sd=sd, observed=d['wait'])  # likelihood\n",
    "    trace_13_1 = pm.sample(5000, tune=2000)"
   ]
  },
  {
   "cell_type": "code",
   "execution_count": null,
   "metadata": {},
   "outputs": [],
   "source": [
    "with pm.Model() as m_13_1:\n",
    "    sd_dist = pm.HalfCauchy.dist(beta=2) # This is the same as sigma_cafe ~ dcauchy(0,2)\n",
    "    # it is more computationaly efficient to use a prior on the cholesky decomposition component\n",
    "    # L. L is a lower tringular matrix and in this packed form it's a vector\n",
    "    packed_chol = pm.LKJCholeskyCov('chol_cov', eta=2, n=2, sd_dist=sd_dist)\n",
    "    \n",
    "    # compute the covariance matrix\n",
    "    # to calculate the covariance matric we re-pack the `packed_chol` vector to the \n",
    "    # matrix form of L of the cholesky decomposition \n",
    "    chol = pm.expand_packed_triangular(2, packed_chol, lower=True)\n",
    "    # Cholesky composition of covariance\n",
    "    cov = tt.dot(chol, chol.T)\n",
    "    \n",
    "    # Extract the standard deviations and rho\n",
    "    sigma_ab = pm.Deterministic('sigma_cafe', tt.sqrt(tt.diag(cov)))\n",
    "    # convert covariance matrix to corellation matrix and get the corellation using `np.triu' \n",
    "    # see https://math.stackexchange.com/questions/186959/correlation-matrix-from-covariance-matrix\n",
    "    corr = tt.diag(sigma_ab**-1).dot(cov.dot(tt.diag(sigma_ab**-1)))\n",
    "    r = pm.Deterministic('Rho', corr[np.triu_indices(2, k=1)])\n",
    "    \n",
    "    ab = pm.Normal('ab', mu=0, sd=10, shape=2)  # prior for average intercept and slope\n",
    "    ab_cafe = pm.MvNormal('ab_cafe', mu=ab, chol=chol, shape=(N_cafes, 2)) # Population of varying effects\n",
    "    # Shape needs to be (N_cafes, 2) because we're getting back both a and b for each cafe\n",
    "    \n",
    "    mu = ab_cafe[:, 0][cafe_idx] + ab_cafe[:, 1][cafe_idx] * d['afternoon'].values  # linear model\n",
    "    sd = pm.HalfCauchy('sigma', beta=2)      # prior stddev within cafes\n",
    "    wait = pm.Normal('wait', mu=mu, sd=sd, observed=d['wait'])  # likelihood\n",
    "    trace_13_1 = pm.sample(5000, tune=2000)"
   ]
  },
  {
   "cell_type": "markdown",
   "metadata": {},
   "source": [
    "For complicate model it is always good to do more checks:"
   ]
  },
  {
   "cell_type": "code",
   "execution_count": null,
   "metadata": {},
   "outputs": [],
   "source": [
    "pm.traceplot(trace_13_1, varnames=['ab', 'Rho', 'sigma', 'sigma_cafe'],\n",
    "             lines={\"ab\": Mu,\n",
    "                    \"Rho\": rho,\n",
    "                    \"sigma\": sigma,\n",
    "                    \"sigma_cafe\": sigmas});"
   ]
  },
  {
   "cell_type": "markdown",
   "metadata": {},
   "source": [
    "#### Code 13.13"
   ]
  },
  {
   "cell_type": "code",
   "execution_count": null,
   "metadata": {},
   "outputs": [],
   "source": [
    "post = pm.trace_to_dataframe(trace_13_1)"
   ]
  },
  {
   "cell_type": "code",
   "execution_count": null,
   "metadata": {},
   "outputs": [],
   "source": [
    "_, ax = plt.subplots(1, 1, figsize=(5, 5))\n",
    "R = pm.LKJCorr.dist(n=2, eta=2).random(size=10000)\n",
    "pm.kdeplot(R, ax=ax, color='k', linestyle='--')\n",
    "ax.text(0, .8, 'prior', horizontalalignment='center')\n",
    "pm.kdeplot(trace_13_1['Rho'], ax=ax, color='C0')\n",
    "ax.text(-.15, 1.5, 'posterior', color='C0', horizontalalignment='center')\n",
    "ax.set_ylim(-.025, 2.5)\n",
    "ax.set_xlabel('correlation', fontsize=14)\n",
    "ax.set_ylabel('Density', fontsize=14);"
   ]
  },
  {
   "cell_type": "markdown",
   "metadata": {},
   "source": [
    "#### Code 13.14"
   ]
  },
  {
   "cell_type": "code",
   "execution_count": null,
   "metadata": {},
   "outputs": [],
   "source": [
    "# compute unpooled estimates directly from data\n",
    "a1b1 = (d.groupby(['afternoon', 'cafe'])\n",
    "        .agg('mean')\n",
    "        .unstack(level=0)\n",
    "        .values)\n",
    "# mean wait times in the morning (afternoon=0)\n",
    "a1 = a1b1[:, 0]\n",
    "# difference between afternoon and morning (this would be the slope of the model)\n",
    "b1 = a1b1[:, 1] - a1\n",
    "\n",
    "# extract posterior means of partially pooled estimates\n",
    "a2b2 = trace_13_1['ab_cafe'].mean(axis=0)\n",
    "a2 = a2b2[:, 0]\n",
    "b2 = a2b2[:, 1]\n",
    "\n",
    "# plot both and connect with lines\n",
    "_, ax = plt.subplots(1, 1, figsize=(5, 5))\n",
    "ax.scatter(a1, b1, label= 'unpooled estimates')\n",
    "ax.scatter(a2, b2, \n",
    "           facecolors='none', edgecolors='k', lw=1, label='pooled posterior estimates')\n",
    "\n",
    "ax.plot([a1, a2], [b1, b2], 'k-', alpha=.5)\n",
    "ax.set_xlabel('intercept', fontsize=14)\n",
    "ax.set_ylabel('slope', fontsize=14);\n",
    "ax.legend();"
   ]
  },
  {
   "cell_type": "markdown",
   "metadata": {},
   "source": [
    "#### Code 13.15"
   ]
  },
  {
   "cell_type": "code",
   "execution_count": null,
   "metadata": {},
   "outputs": [],
   "source": [
    "plt.rcParams.update({'font.size': 14})\n",
    "# from the model\n",
    "chol_model = pm.expand_packed_triangular(2, trace_13_1['chol_cov'].mean(0),lower=True).eval()\n",
    "cov_model = np.dot(chol_model, chol_model.T)\n",
    "# from the book\n",
    "sa_est = trace_13_1['sigma_cafe'].mean(0)[0]\n",
    "sb_est = trace_13_1['sigma_cafe'].mean(0)[1]\n",
    "rho_est = trace_13_1['Rho'].mean()\n",
    "cov_ab = sa_est * sb_est * rho_est\n",
    "cov_book = np.array([sa_est**2, cov_ab, cov_ab, sb_est**2]).reshape(2,2)\n",
    "# compute posterior mean bivariate Gaussian\n",
    "Mu_est = trace_13_1['ab'].mean(axis=0)\n",
    "Chol_cov = trace_13_1['chol_cov'].mean(axis=0)\n",
    "L_chol = np.zeros((2, 2))\n",
    "L_chol[np.tril_indices(2, 0)] = Chol_cov\n",
    "Sigma_est = np.dot(L_chol, L_chol.T)\n",
    "# draw contours\n",
    "fig, ax = plt.subplots(1, 1, figsize=(10, 10))\n",
    "for ls, cov_ in zip(['-','--',':'],[Sigma_est, cov_model, cov_book]):\n",
    "    Gauss2d(Mu_est, np.asarray(cov_), [0.1, 0.3, 0.5, 0.8, 0.99], ax=ax, ls=ls)\n",
    "ax.scatter(a1, b1)\n",
    "ax.scatter(a2, b2, \n",
    "           facecolors='none', edgecolors='k', lw=1)\n",
    "ax.plot([a1, a2], [b1, b2], 'k-', alpha=.5)\n",
    "ax.set_xlabel('intercept', fontsize=14)\n",
    "ax.set_ylabel('slope', fontsize=14)\n",
    "ax.set_xlim(1.5, 6.1)\n",
    "ax.set_ylim(-2.5, 0);"
   ]
  },
  {
   "cell_type": "markdown",
   "metadata": {},
   "source": [
    "#### Code 13.16"
   ]
  },
  {
   "cell_type": "code",
   "execution_count": null,
   "metadata": {},
   "outputs": [],
   "source": [
    "# convert varying effects to waiting times\n",
    "wait_morning_1 = a1\n",
    "wait_afternoon_1 = a1 + b1\n",
    "wait_morning_2 = a2\n",
    "wait_afternoon_2 = a2 + b2"
   ]
  },
  {
   "cell_type": "markdown",
   "metadata": {},
   "source": [
    "#### Code 13.17"
   ]
  },
  {
   "cell_type": "code",
   "execution_count": null,
   "metadata": {},
   "outputs": [],
   "source": [
    "d_ad = pd.read_csv('./Data/UCBadmit.csv', sep=';')\n",
    "d_ad['male'] = (d_ad['applicant.gender'] == 'male').astype(int)\n",
    "d_ad['dept_id'] = pd.Categorical(d_ad['dept']).codes"
   ]
  },
  {
   "cell_type": "code",
   "execution_count": null,
   "metadata": {},
   "outputs": [],
   "source": [
    "d_ad.head()"
   ]
  },
  {
   "cell_type": "markdown",
   "metadata": {},
   "source": [
    "#### Code 13.18"
   ]
  },
  {
   "cell_type": "code",
   "execution_count": null,
   "metadata": {},
   "outputs": [],
   "source": [
    "Dept_id = d_ad['dept_id'].values\n",
    "Ndept = len(d_ad['dept_id'].unique())\n",
    "with pm.Model() as m_13_2:\n",
    "    a = pm.Normal('a', 0, 10)\n",
    "    bm = pm.Normal('bm', 0, 1)\n",
    "    sigma_dept = pm.HalfCauchy('sigma_dept', 2)\n",
    "    a_dept = pm.Normal('a_dept', a, sigma_dept, shape=Ndept)\n",
    "    p = pm.math.invlogit(a_dept[Dept_id] + bm * d_ad['male'])\n",
    "    admit = pm.Binomial('admit', p=p, n=d_ad.applications, observed=d_ad.admit)\n",
    "    \n",
    "    trace_13_2 = pm.sample(4500, tune=500)\n",
    "\n",
    "pm.summary(trace_13_2, alpha=.11).round(2)"
   ]
  },
  {
   "cell_type": "markdown",
   "metadata": {},
   "source": [
    "#### Code 13.19"
   ]
  },
  {
   "cell_type": "code",
   "execution_count": null,
   "metadata": {},
   "outputs": [],
   "source": [
    "with pm.Model() as m_13_3:\n",
    "    a = pm.Normal('a', 0, 10)\n",
    "    bm = pm.Normal('bm', 0, 1)\n",
    "    \n",
    "    sd_dist = pm.HalfCauchy.dist(beta=2)\n",
    "    packed_chol = pm.LKJCholeskyCov('chol_cov', eta=2, n=2, sd_dist=sd_dist)\n",
    "    \n",
    "    # compute the covariance matrix\n",
    "    chol = pm.expand_packed_triangular(2, packed_chol, lower=True)\n",
    "    cov = tt.dot(chol, chol.T)\n",
    "    \n",
    "    # Extract the standard deviations and rho\n",
    "    sigma_ab = pm.Deterministic('sigma_dept', tt.sqrt(tt.diag(cov)))\n",
    "    corr = tt.diag(sigma_ab**-1).dot(cov.dot(tt.diag(sigma_ab**-1)))\n",
    "    r = pm.Deterministic('Rho', corr[np.triu_indices(2, k=1)])\n",
    "    \n",
    "    mu = pm.MvNormal('ab_cafe', mu=tt.stack([a, bm]), chol=chol, shape=(Ndept, 2))\n",
    "    \n",
    "    a_dept = pm.Deterministic('a_dept', mu[:, 0])\n",
    "    bm_dept = pm.Deterministic('bm_dept', mu[:, 1])\n",
    "    \n",
    "    p = pm.math.invlogit(mu[Dept_id, 0] + mu[Dept_id, 1] * d_ad['male'])\n",
    "    admit = pm.Binomial('admit', p=p, n=d_ad.applications, observed=d_ad.admit)\n",
    "    \n",
    "    trace_13_3 = pm.sample(5000, tune=1000, njobs=4)"
   ]
  },
  {
   "cell_type": "markdown",
   "metadata": {},
   "source": [
    "#### Code 13.20"
   ]
  },
  {
   "cell_type": "code",
   "execution_count": null,
   "metadata": {},
   "outputs": [],
   "source": [
    "pm.forestplot(trace_13_3, varnames=['bm_dept', 'a_dept'], alpha=.11);"
   ]
  },
  {
   "cell_type": "code",
   "execution_count": null,
   "metadata": {},
   "outputs": [],
   "source": [
    "fig, ax = plt.subplots()\n",
    "pm.kdeplot(trace_13_3['Rho'], ax=ax);\n",
    "ax.set_xlabel('Rho');"
   ]
  },
  {
   "cell_type": "markdown",
   "metadata": {},
   "source": [
    "#### Code 13.21"
   ]
  },
  {
   "cell_type": "code",
   "execution_count": null,
   "metadata": {},
   "outputs": [],
   "source": [
    "with pm.Model() as m_13_4:\n",
    "    a = pm.Normal('a', 0, 10)\n",
    "    sigma_dept = pm.HalfCauchy('sigma_dept', 2)\n",
    "    a_dept = pm.Normal('a_dept', a, sigma_dept, shape=Ndept)\n",
    "    p = pm.math.invlogit(a_dept[Dept_id])\n",
    "    admit = pm.Binomial('admit', p=p, n=d_ad.applications, observed=d_ad.admit)\n",
    "    \n",
    "    trace_13_4 = pm.sample(4500, tune=500)"
   ]
  },
  {
   "cell_type": "code",
   "execution_count": null,
   "metadata": {},
   "outputs": [],
   "source": [
    "comp_df = pm.compare({m_13_2:trace_13_2,\n",
    "                      m_13_3:trace_13_3,\n",
    "                      m_13_4:trace_13_4})\n",
    "\n",
    "comp_df.loc[:,'model'] = pd.Series(['m13.2', 'm13.3', 'm13.4'])\n",
    "comp_df = comp_df.set_index('model')\n",
    "comp_df"
   ]
  },
  {
   "cell_type": "markdown",
   "metadata": {},
   "source": [
    "#### Code 13.22"
   ]
  },
  {
   "cell_type": "code",
   "execution_count": null,
   "metadata": {},
   "outputs": [],
   "source": [
    "d = pd.read_csv('Data/chimpanzees.csv', sep=\";\")\n",
    "# we change \"actor\" and \"block\" to zero-index\n",
    "actor = (d['actor'] - 1).values\n",
    "block = (d['block'] - 1).values\n",
    "Nactor = len(np.unique(actor))\n",
    "Nblock = len(np.unique(block))\n",
    "\n",
    "with pm.Model() as model_13_6:\n",
    "    sd_dist = pm.HalfCauchy.dist(beta=2)\n",
    "    pchol1 = pm.LKJCholeskyCov('pchol_actor', eta=4, n=3, sd_dist=sd_dist)\n",
    "    pchol2 = pm.LKJCholeskyCov('pchol_block', eta=4, n=3, sd_dist=sd_dist)\n",
    "    chol1 = pm.expand_packed_triangular(3, pchol1, lower=True)\n",
    "    chol2 = pm.expand_packed_triangular(3, pchol2, lower=True)\n",
    "    \n",
    "    Intercept = pm.Normal('intercept', 0., 1., shape=3)\n",
    "    \n",
    "    beta_actor = pm.MvNormal('beta_actor', mu=0., chol=chol1, shape=(Nactor, 3))\n",
    "    beta_block = pm.MvNormal('beta_block', mu=0., chol=chol2, shape=(Nblock, 3))\n",
    "\n",
    "    A = Intercept[0] + beta_actor[actor, 0] + beta_block[block, 0]\n",
    "    BP = Intercept[1] + beta_actor[actor, 1] + beta_block[block, 1]\n",
    "    BPC = Intercept[2] + beta_actor[actor, 2] + beta_block[block, 2]\n",
    "    \n",
    "    p = pm.math.invlogit(A + (BP + BPC*d['condition'])*d['prosoc_left'])\n",
    "    pulled_left = pm.Binomial('pulled_left', 1, p, observed=d['pulled_left'])\n",
    "\n",
    "    trace_13_6 = pm.sample(5000, tune=1000)"
   ]
  },
  {
   "cell_type": "code",
   "execution_count": null,
   "metadata": {},
   "outputs": [],
   "source": [
    "# pm.summary(trace_13_6).round(2)"
   ]
  },
  {
   "cell_type": "markdown",
   "metadata": {},
   "source": [
    "#### Code 13.23"
   ]
  },
  {
   "cell_type": "code",
   "execution_count": null,
   "metadata": {},
   "outputs": [],
   "source": [
    "with pm.Model() as model_13_6NC:\n",
    "    sd_dist = pm.HalfCauchy.dist(beta=2)\n",
    "    pchol1 = pm.LKJCholeskyCov('pchol_actor', eta=4, n=3, sd_dist=sd_dist)\n",
    "    pchol2 = pm.LKJCholeskyCov('pchol_block', eta=4, n=3, sd_dist=sd_dist)\n",
    "    chol1 = pm.expand_packed_triangular(3, pchol1, lower=True)\n",
    "    chol2 = pm.expand_packed_triangular(3, pchol2, lower=True)\n",
    "    \n",
    "    Intercept = pm.Normal('intercept', 0., 1., shape=3)\n",
    "    # A Cholesky decomposition L is a way to represent a square, symmetric matrix like a correlation matrix R \n",
    "    # such that R = LL.T. It is a marvelous fact that you can multiply L by a vector of uncorrelated samples and\n",
    "    # end up with a vector of correlated samples. This is the trick that lets us take even the correlations out\n",
    "    # of the prior. We just sample a vector of uncorrelated z-scores and then multiply those by the Cholesky\n",
    "    # factor and the standard deviations to get the varying effects with the correct scale and correlation.\n",
    "    b1 = pm.Normal('b1', 0., 1., shape=(3, Nactor))\n",
    "    b2 = pm.Normal('b2', 0., 1., shape=(3, Nblock))\n",
    "    beta_actor = tt.dot(chol1, b1)\n",
    "    beta_block = tt.dot(chol2, b2)\n",
    "\n",
    "    A = Intercept[0] + beta_actor[0, actor] + beta_block[0, block]\n",
    "    BP = Intercept[1] + beta_actor[1, actor] + beta_block[1, block]\n",
    "    BPC = Intercept[2] + beta_actor[2, actor] + beta_block[2, block]\n",
    "    \n",
    "    p = pm.math.invlogit(A + (BP + BPC*d['condition'])*d['prosoc_left'])\n",
    "    pulled_left = pm.Binomial('pulled_left', 1, p, observed=d['pulled_left'])\n",
    "\n",
    "    trace_13_6NC = pm.sample(5000, tune=1000)"
   ]
  },
  {
   "cell_type": "markdown",
   "metadata": {},
   "source": [
    "#### Code 13.24"
   ]
  },
  {
   "cell_type": "code",
   "execution_count": null,
   "metadata": {},
   "outputs": [],
   "source": [
    "# extract n_eff values for each model\n",
    "neff_c = pm.summary(trace_13_6)['n_eff'].values\n",
    "neff_nc = pm.summary(trace_13_6NC)['n_eff'].values\n",
    "# plot distributions\n",
    "_, ax = plt.subplots(1, 1, figsize=(5, 5))\n",
    "ax.boxplot([neff_c, neff_nc], labels=['m13.6', 'm13.6NC']);\n",
    "ax.set_xlabel('model', fontsize=14)\n",
    "ax.set_ylabel('effective samples', fontsize=14);"
   ]
  },
  {
   "cell_type": "markdown",
   "metadata": {},
   "source": [
    "#### Code 13.25"
   ]
  },
  {
   "cell_type": "markdown",
   "metadata": {},
   "source": [
    "Have no idea what's happening here. Probably some smart indexing to reproduce the covariance from the 3-d cholesky decomp matrices"
   ]
  },
  {
   "cell_type": "code",
   "execution_count": null,
   "metadata": {
    "scrolled": true
   },
   "outputs": [],
   "source": [
    "# I didnt compute the sigma from the chol above, got to get a bit more creative here\n",
    "def unpack_sigma(pack_chol):\n",
    "    idxs = np.tril_indices(3)\n",
    "    chol_ = np.zeros((3, 3, pack_chol.shape[0]))\n",
    "    chol_[idxs] = pack_chol.T\n",
    "    chol = np.transpose(chol_, (2, 0, 1))\n",
    "    cholt= np.transpose(chol, (0, 2, 1))\n",
    "    sigma = np.matmul(chol, cholt)\n",
    "    return np.sqrt(np.diagonal(sigma, axis1=1, axis2=2))\n",
    "\n",
    "sigmadict = dict(Sigma_actor=unpack_sigma(trace_13_6NC.get_values('pchol_actor', combine=True)),\n",
    "                 Sigma_block=unpack_sigma(trace_13_6NC.get_values('pchol_block', combine=True)))\n",
    "trace_13_6NC.add_values(sigmadict)\n",
    "pm.summary(trace_13_6NC, varnames=['Sigma_actor', 'Sigma_block']).round(2)"
   ]
  },
  {
   "cell_type": "code",
   "execution_count": null,
   "metadata": {},
   "outputs": [],
   "source": [
    "pm.summary(trace_13_6NC, varnames=['Sigma_actor', 'Sigma_block']).round(2)"
   ]
  },
  {
   "cell_type": "markdown",
   "metadata": {},
   "source": [
    "#### Code 13.26\n",
    "R and Rethinking related, skip for now"
   ]
  },
  {
   "cell_type": "markdown",
   "metadata": {},
   "source": [
    "#### Code 13.27"
   ]
  },
  {
   "cell_type": "code",
   "execution_count": null,
   "metadata": {},
   "outputs": [],
   "source": [
    "with pm.Model() as m_12_5:\n",
    "    bp = pm.Normal('bp', 0, 10)\n",
    "    bpC = pm.Normal('bpC', 0, 10)\n",
    "    \n",
    "    a = pm.Normal('a', 0, 10)\n",
    "    sigma_actor = pm.HalfCauchy('sigma_actor', 1.)\n",
    "    a_actor = pm.Normal('a_actor', 0., sigma_actor, shape=Nactor)\n",
    "\n",
    "    sigma_block = pm.HalfCauchy('sigma_block', 1.)\n",
    "    a_block = pm.Normal('a_block', 0., sigma_block, shape=Nblock)\n",
    "    \n",
    "    p = pm.math.invlogit(a + a_actor[actor] + a_block[block]\n",
    "                         + (bp + bpC * d['condition']) * d['prosoc_left'])\n",
    "    pulled_left = pm.Binomial('pulled_left', 1, p, observed=d['pulled_left'])\n",
    "\n",
    "    trace_12_5 = pm.sample(6000, tune=1000)"
   ]
  },
  {
   "cell_type": "code",
   "execution_count": null,
   "metadata": {},
   "outputs": [],
   "source": [
    "comp_df = pm.compare({model_13_6NC:trace_13_6NC,\n",
    "                     m_12_5:trace_12_5},\n",
    "                     method='pseudo-BMA')\n",
    "\n",
    "comp_df.loc[:,'model'] = pd.Series(['m13.6NC', 'm12.5'])\n",
    "comp_df = comp_df.set_index('model')\n",
    "comp_df"
   ]
  },
  {
   "cell_type": "markdown",
   "metadata": {},
   "source": [
    "#### Code 13.28\n",
    "Actually in model m_13_6NC I am already using the Cholesky decomposition of the covariance matrix. If we want to strictly follow the parameterization of m13.6NC and m13.6nc1 as in the book, we will model the Rho using pm.LKJCorr and do multiplication it with pm.HalfCauchy."
   ]
  },
  {
   "cell_type": "code",
   "execution_count": null,
   "metadata": {},
   "outputs": [],
   "source": [
    "# effort to do it as in the books\n",
    "# with pm.Model() as model_13_6nc1:\n",
    "#     rho = pm.LKJCorr('rho', n=3, eta=4)\n",
    "    \n",
    "#     Intercept = pm.Normal('intercept', 0., 1., shape=3)\n",
    "#     # note that in the book dmvnorm2 takes a vector of means, the sd_dist and \n",
    "#     # a prior from \n",
    "#     zeta_actor = pm.MvNormal('zeta_actor', mu=0., cov=chol1, shape=(Nactor, 3))\n",
    "#     zeta_block = pm.MvNormal('zeta_block', mu=0., chol=chol2, shape=(Nblock, 3))\n",
    "    \n",
    "#     sigma_actor = pm.HalfCauchy('sigma_actor', beta=2, shape=3)\n",
    "#     sigma_block = pm.HalfCauchy('sigma_block', beta=2, shape=3)\n",
    "\n",
    "#     A = Intercept[0] + zeta_actor[actor, 0]*sigma_actor[0] + zeta_block[block, 0]*sigma_block[0]\n",
    "#     BP = Intercept[1] + zeta_actor[actor, 1]*sigma_actor[1] + zeta_block[block, 1]*sigma_block[1]\n",
    "#     BPC = Intercept[2] + zeta_actor[actor, 2]*sigma_actor[2] + zeta_block[block, 2]*sigma_block[2]\n",
    "    \n",
    "#     p = pm.math.invlogit(A + (BP + BPC*d['condition'])*d['prosoc_left'])\n",
    "#     pulled_left = pm.Binomial('pulled_left', 1, p, observed=d['pulled_left'])\n",
    "\n",
    "#     trace_13_6nc1 = pm.sample(5000, tune=1000)"
   ]
  },
  {
   "cell_type": "markdown",
   "metadata": {},
   "source": [
    "#### Code 13.29"
   ]
  },
  {
   "cell_type": "code",
   "execution_count": null,
   "metadata": {},
   "outputs": [],
   "source": [
    "Dmat = pd.read_csv('Data/islandsDistMatrix.csv', sep=\",\", index_col=0)\n",
    "Dmat.round(1)"
   ]
  },
  {
   "cell_type": "markdown",
   "metadata": {},
   "source": [
    "#### Code 13.30"
   ]
  },
  {
   "cell_type": "code",
   "execution_count": null,
   "metadata": {},
   "outputs": [],
   "source": [
    "_, ax = plt.subplots(1, 1, figsize=(5, 5))\n",
    "xrange = np.linspace(0, 4, 100)\n",
    "ax.plot(xrange, np.exp(-1*xrange), 'k--')\n",
    "ax.plot(xrange, np.exp(-1*xrange**2), 'k')\n",
    "ax.set_xlabel('distance', fontsize=14)\n",
    "ax.set_ylabel('correlation', fontsize=14);"
   ]
  },
  {
   "cell_type": "markdown",
   "metadata": {},
   "source": [
    "#### Code 13.31"
   ]
  },
  {
   "cell_type": "code",
   "execution_count": null,
   "metadata": {},
   "outputs": [],
   "source": [
    "dk = pd.read_csv('Data/Kline2.csv', sep=\",\")\n",
    "Nsociety = dk.shape[0]\n",
    "dk.loc[:, 'society'] = np.arange(Nsociety)\n",
    "Dmat_ = Dmat.values\n",
    "Dmatsq = np.power(Dmat_, 2)"
   ]
  },
  {
   "cell_type": "code",
   "execution_count": null,
   "metadata": {},
   "outputs": [],
   "source": [
    "with pm.Model() as m_13_7:\n",
    "    etasq = pm.HalfCauchy('etasq', 1)\n",
    "    rhosq = pm.HalfCauchy('rhosq', 1)\n",
    "    Kij = etasq*(tt.exp(-rhosq*Dmatsq)+np.diag([.01]*Nsociety))\n",
    "    \n",
    "    g = pm.MvNormal('g', mu=np.zeros(Nsociety), cov=Kij, shape=Nsociety)\n",
    "    \n",
    "    a = pm.Normal('a', 0, 10)\n",
    "    bp = pm.Normal('bp', 0, 1)\n",
    "    lam = pm.math.exp(a + g[dk.society.values] + bp*dk.logpop)\n",
    "    obs = pm.Poisson('total_tools', lam, observed=dk.total_tools)\n",
    "    trace_13_7 = pm.sample(1000, tune=1000)"
   ]
  },
  {
   "cell_type": "code",
   "execution_count": null,
   "metadata": {},
   "outputs": [],
   "source": [
    "pm.traceplot(trace_13_7, varnames=['g', 'a', 'bp', 'etasq', 'rhosq']);"
   ]
  },
  {
   "cell_type": "markdown",
   "metadata": {},
   "source": [
    "A reparameterization of m13.7"
   ]
  },
  {
   "cell_type": "code",
   "execution_count": null,
   "metadata": {},
   "outputs": [],
   "source": [
    "with pm.Model() as m_13_7_:\n",
    "    etasq = pm.HalfCauchy('etasq', 1)\n",
    "    rhosq = pm.HalfCauchy('rhosq', 1)\n",
    "    Kij = etasq * (tt.exp(-rhosq * Dmatsq) + np.diag([.01] * Nsociety))\n",
    "    \n",
    "    # g = pm.MvNormal('g', mu=np.zeros(Nsociety), cov=Kij, shape=Nsociety)\n",
    "    gmu = pm.Normal('gmu', 0., 1., shape=Nsociety)\n",
    "    g = pm.Deterministic('g', tt.dot(tt.slinalg.cholesky(Kij), gmu))\n",
    "    \n",
    "    a = pm.Normal('a', 0, 10)\n",
    "    bp = pm.Normal('bp', 0, 1)\n",
    "    lam = pm.math.exp(a + g[dk.society.values] + bp * dk.logpop)\n",
    "    obs = pm.Poisson('total_tools', lam, observed=dk.total_tools)\n",
    "    trace_13_7_ = pm.sample(1000, tune=1000)"
   ]
  },
  {
   "cell_type": "code",
   "execution_count": null,
   "metadata": {},
   "outputs": [],
   "source": [
    "pm.traceplot(trace_13_7_, varnames=['g', 'a', 'bp', 'etasq', 'rhosq']);"
   ]
  },
  {
   "cell_type": "markdown",
   "metadata": {},
   "source": [
    "#### Code 13.32"
   ]
  },
  {
   "cell_type": "code",
   "execution_count": null,
   "metadata": {},
   "outputs": [],
   "source": [
    "pm.summary(trace_13_7, varnames=['g', 'a', 'bp', 'etasq', 'rhosq']).round(2)"
   ]
  },
  {
   "cell_type": "code",
   "execution_count": null,
   "metadata": {},
   "outputs": [],
   "source": [
    "pm.summary(trace_13_7_, varnames=['g', 'a', 'bp', 'etasq', 'rhosq']).round(2)"
   ]
  },
  {
   "cell_type": "markdown",
   "metadata": {},
   "source": [
    "#### Code 13.33"
   ]
  },
  {
   "cell_type": "code",
   "execution_count": null,
   "metadata": {},
   "outputs": [],
   "source": [
    "post = pm.trace_to_dataframe(trace_13_7, varnames=['g', 'a', 'bp', 'etasq', 'rhosq'])\n",
    "post_etasq = post['etasq'].values\n",
    "post_rhosq = post['rhosq'].values\n",
    "\n",
    "_, ax = plt.subplots(1, 1, figsize=(8, 5))\n",
    "xrange = np.linspace(0, 10, 200)\n",
    "\n",
    "ax.plot(xrange, np.median(post_etasq) * np.exp(-np.median(post_rhosq) * xrange**2), 'k')\n",
    "ax.plot(xrange, (post_etasq[:100][:, None] * np.exp(-post_rhosq[:100][:, None] * xrange**2)).T,\n",
    "        'k', alpha=.1)\n",
    "\n",
    "ax.set_ylim(0, 1)\n",
    "ax.set_xlabel('distance')\n",
    "ax.set_ylabel('correlation');"
   ]
  },
  {
   "cell_type": "markdown",
   "metadata": {},
   "source": [
    "#### Code 13.34"
   ]
  },
  {
   "cell_type": "code",
   "execution_count": null,
   "metadata": {},
   "outputs": [],
   "source": [
    "# compute posterior median covariance among societies\n",
    "Kij_post = np.median(post_etasq) * (np.exp(-np.median(post_rhosq) * Dmatsq) + np.diag([.01] * Nsociety))"
   ]
  },
  {
   "cell_type": "markdown",
   "metadata": {},
   "source": [
    "#### Code 13.35"
   ]
  },
  {
   "cell_type": "code",
   "execution_count": null,
   "metadata": {},
   "outputs": [],
   "source": [
    "# convert to correlation matrix\n",
    "sigma_post = np.sqrt(np.diag(Kij_post))\n",
    "Rho = np.diag(sigma_post**-1).dot(Kij_post.dot(np.diag(sigma_post**-1)))\n",
    "# add row/col names for convenience\n",
    "Rho = pd.DataFrame(Rho, index=[\"Ml\",\"Ti\",\"SC\",\"Ya\",\"Fi\",\"Tr\",\"Ch\",\"Mn\",\"To\",\"Ha\"],\n",
    "                  columns=[\"Ml\",\"Ti\",\"SC\",\"Ya\",\"Fi\",\"Tr\",\"Ch\",\"Mn\",\"To\",\"Ha\"])\n",
    "\n",
    "Rho.round(2)"
   ]
  },
  {
   "cell_type": "markdown",
   "metadata": {},
   "source": [
    "#### Code 13.36"
   ]
  },
  {
   "cell_type": "code",
   "execution_count": null,
   "metadata": {},
   "outputs": [],
   "source": [
    "# scale point size to logpop\n",
    "logpop = np.copy(dk['logpop'].values)\n",
    "logpop /= logpop.max()\n",
    "psize = np.exp(logpop*5.5)\n",
    "\n",
    "_, ax = plt.subplots(1, 1, figsize=(5, 5))\n",
    "# islands as dots with size proportional to population\n",
    "ax.scatter(dk['lon2'], dk['lat'], psize);\n",
    "# names of islands\n",
    "labels = dk['culture'].values\n",
    "for i, itext in enumerate(labels):\n",
    "    ax.text(dk['lon2'][i]+1, dk['lat'][i]+1, itext)\n",
    "# overlay lines shaded by Rho\n",
    "for i in range(10):\n",
    "    for j in np.arange(i+1, 10):\n",
    "        ax.plot([dk['lon2'][i], dk['lon2'][j]],\n",
    "                [dk['lat'][i], dk['lat'][j]], 'k-', \n",
    "                alpha=Rho.iloc[i, j]**2, lw=2.5)\n",
    "ax.set_xlabel('longitude')\n",
    "ax.set_ylabel('latitude');"
   ]
  },
  {
   "cell_type": "markdown",
   "metadata": {},
   "source": [
    "#### Code 13.37"
   ]
  },
  {
   "cell_type": "code",
   "execution_count": null,
   "metadata": {},
   "outputs": [],
   "source": [
    "Nbin = 30\n",
    "log_pop_seq = np.linspace(6, 14, Nbin)\n",
    "a_post = trace_13_7.get_values(varname='a', combine=True)[:, None]\n",
    "bp_post = trace_13_7.get_values(varname='bp', combine=True)[:, None]\n",
    "# posterior without taking distance into account\n",
    "lambda_post = np.exp(a_post + bp_post*log_pop_seq)\n",
    "\n",
    "# plot raw data\n",
    "_, axes = plt.subplots(1, 1, figsize=(5, 5))\n",
    "axes.plot(log_pop_seq, np.median(lambda_post, axis=0), '--', color='k')\n",
    "\n",
    "alpha = .2\n",
    "mu_hpd = pm.hpd(lambda_post, alpha=alpha)\n",
    "axes.fill_between(log_pop_seq,\n",
    "                  mu_hpd[:,0], mu_hpd[:,1], alpha=alpha*.5+.1, color='k')\n",
    "\n",
    "axes.scatter(dk['logpop'], dk['total_tools'], psize)\n",
    "labels = dk['culture'].values\n",
    "for i, itext in enumerate(labels):\n",
    "    axes.text(dk['logpop'][i]+.1, dk['total_tools'][i]-2.5, itext)\n",
    "    \n",
    "# overlay correlations\n",
    "for i in range(10):\n",
    "    for j in np.arange(i+1, 10):\n",
    "        axes.plot([dk['logpop'][i], dk['logpop'][j]],\n",
    "                [dk['total_tools'][i], dk['total_tools'][j]], 'k-', \n",
    "                alpha=Rho.iloc[i, j]**2, lw=2.5)\n",
    "        \n",
    "axes.set_xlabel('log-population')\n",
    "axes.set_ylabel('total tools')\n",
    "axes.set_xlim(6.8, 12.8)\n",
    "axes.set_ylim(10, 73);"
   ]
  },
  {
   "cell_type": "markdown",
   "metadata": {},
   "source": [
    "#### Code 13.38\n",
    "Practice session, skip for now."
   ]
  },
  {
   "cell_type": "code",
   "execution_count": null,
   "metadata": {},
   "outputs": [],
   "source": [
    "import sys, IPython, scipy, matplotlib, platform\n",
    "print(\"This notebook was createad on a computer %s running %s and using:\\nPython %s\\nIPython %s\\nPyMC3 %s\\nNumPy %s\\nSciPy %s\\nMatplotlib %s\\n\" % (platform.machine(), ' '.join(platform.linux_distribution()[:2]), sys.version[:5], IPython.__version__, pm.__version__, np.__version__, scipy.__version__, matplotlib.__version__))"
   ]
  }
 ],
 "metadata": {
  "anaconda-cloud": {},
  "kernelspec": {
   "display_name": "Python 3",
   "language": "python",
   "name": "python3"
  },
  "language_info": {
   "codemirror_mode": {
    "name": "ipython",
    "version": 3
   },
   "file_extension": ".py",
   "mimetype": "text/x-python",
   "name": "python",
   "nbconvert_exporter": "python",
   "pygments_lexer": "ipython3",
   "version": "3.7.2"
  }
 },
 "nbformat": 4,
 "nbformat_minor": 1
}
